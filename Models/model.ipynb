{
 "cells": [
  {
   "cell_type": "code",
   "execution_count": 89,
   "metadata": {},
   "outputs": [],
   "source": [
    "import tensorflow as tf\n",
    "import numpy as np\n",
    "from tensorflow.keras import losses\n",
    "from tensorflow.keras.layers import Dense\n",
    "from tensorflow.keras.activations import relu,softmax,sigmoid\n",
    "from tensorflow.keras.optimizers import Adam\n",
    "import os\n",
    "import mysql.connector\n",
    "import pandas as pd\n",
    "import seaborn as sns\n",
    "import matplotlib.pyplot as plt\n"
   ]
  },
  {
   "cell_type": "markdown",
   "metadata": {},
   "source": [
    "DataBaseden veri çekmek.\n",
    "Environment yüklemek."
   ]
  },
  {
   "cell_type": "code",
   "execution_count": 90,
   "metadata": {},
   "outputs": [
    {
     "data": {
      "text/plain": [
       "True"
      ]
     },
     "execution_count": 90,
     "metadata": {},
     "output_type": "execute_result"
    }
   ],
   "source": [
    "from dotenv import load_dotenv  # python-dotenv kütüphanesini import edin\n",
    "\n",
    "load_dotenv(\"/Users/enesdemir/Desktop/financeProject/.venv/.env\")"
   ]
  },
  {
   "cell_type": "code",
   "execution_count": 91,
   "metadata": {},
   "outputs": [],
   "source": [
    "password = os.getenv(\"MYSQL_PASSWORD\")\n",
    "\n",
    "db = mysql.connector.connect(\n",
    "    host=\"localhost\",\n",
    "    user=\"root\",  \n",
    "    password=f\"{password}\",\n",
    "    database=\"finance\"  \n",
    ")\n",
    "\n",
    "cursor = db.cursor()"
   ]
  },
  {
   "cell_type": "code",
   "execution_count": 92,
   "metadata": {},
   "outputs": [
    {
     "data": {
      "text/plain": [
       "True"
      ]
     },
     "execution_count": 92,
     "metadata": {},
     "output_type": "execute_result"
    }
   ],
   "source": [
    "query = \"\"\"\n",
    "    SELECT \n",
    "        timestampp,\n",
    "        open_price,\n",
    "        high_price,\n",
    "        low_price,\n",
    "        close_price,\n",
    "        volume\n",
    "    FROM\n",
    "        stock_data\n",
    "ORDER BY \n",
    "\ttimestampp;\n",
    "\"\"\"\n",
    "\n",
    "cursor.execute(query)\n",
    "answer = cursor.fetchall()\n",
    "cursor.close()"
   ]
  },
  {
   "cell_type": "markdown",
   "metadata": {},
   "source": [
    "Veriyi numpy dizisine çevirme."
   ]
  },
  {
   "cell_type": "code",
   "execution_count": 93,
   "metadata": {},
   "outputs": [],
   "source": [
    "train_x =[]\n",
    "train_y =[]\n",
    "\n",
    "for row in answer:\n",
    "    row_data = np.array([\n",
    "        row[0].timestamp(),\n",
    "        float(row[1]),\n",
    "        float(row[2]),\n",
    "        float(row[3]),\n",
    "        float(row[4]),\n",
    "        int(row[5])\n",
    "    ])\n",
    "    row_data2 = np.array([\n",
    "\n",
    "    ])\n",
    "    train_x.append(row_data)\n",
    "\n",
    "train_x = pd.DataFrame(train_x)\n"
   ]
  },
  {
   "cell_type": "code",
   "execution_count": 94,
   "metadata": {},
   "outputs": [
    {
     "name": "stdout",
     "output_type": "stream",
     "text": [
      "                 0       1       2       3       4      5\n",
      "0     1.735175e+09  224.60  224.60  223.90  224.41  355.0\n",
      "1     1.735175e+09  224.41  224.70  224.02  224.59   47.0\n",
      "2     1.735175e+09  224.59  224.59  223.97  224.59  221.0\n",
      "3     1.735176e+09  224.59  224.65  224.19  224.19   39.0\n",
      "4     1.735176e+09  224.57  224.59  223.28  224.59   19.0\n",
      "...            ...     ...     ...     ...     ...    ...\n",
      "3256  1.737736e+09  224.62  224.80  224.62  224.79   12.0\n",
      "3257  1.737736e+09  224.80  224.80  224.80  224.80    7.0\n",
      "3258  1.737737e+09  224.60  224.60  224.60  224.60    4.0\n",
      "3259  1.737737e+09  224.62  224.62  224.62  224.62    4.0\n",
      "3260  1.737738e+09  224.78  224.78  224.78  224.78    5.0\n",
      "\n",
      "[3261 rows x 6 columns]\n"
     ]
    }
   ],
   "source": [
    "print(train_x)"
   ]
  },
  {
   "cell_type": "code",
   "execution_count": 95,
   "metadata": {},
   "outputs": [
    {
     "data": {
      "text/html": [
       "<div>\n",
       "<style scoped>\n",
       "    .dataframe tbody tr th:only-of-type {\n",
       "        vertical-align: middle;\n",
       "    }\n",
       "\n",
       "    .dataframe tbody tr th {\n",
       "        vertical-align: top;\n",
       "    }\n",
       "\n",
       "    .dataframe thead th {\n",
       "        text-align: right;\n",
       "    }\n",
       "</style>\n",
       "<table border=\"1\" class=\"dataframe\">\n",
       "  <thead>\n",
       "    <tr style=\"text-align: right;\">\n",
       "      <th></th>\n",
       "      <th>0</th>\n",
       "      <th>1</th>\n",
       "      <th>2</th>\n",
       "      <th>3</th>\n",
       "      <th>4</th>\n",
       "      <th>5</th>\n",
       "    </tr>\n",
       "  </thead>\n",
       "  <tbody>\n",
       "    <tr>\n",
       "      <th>0</th>\n",
       "      <td>1.735175e+09</td>\n",
       "      <td>224.60</td>\n",
       "      <td>224.60</td>\n",
       "      <td>223.90</td>\n",
       "      <td>224.41</td>\n",
       "      <td>355.0</td>\n",
       "    </tr>\n",
       "    <tr>\n",
       "      <th>1</th>\n",
       "      <td>1.735175e+09</td>\n",
       "      <td>224.41</td>\n",
       "      <td>224.70</td>\n",
       "      <td>224.02</td>\n",
       "      <td>224.59</td>\n",
       "      <td>47.0</td>\n",
       "    </tr>\n",
       "    <tr>\n",
       "      <th>2</th>\n",
       "      <td>1.735175e+09</td>\n",
       "      <td>224.59</td>\n",
       "      <td>224.59</td>\n",
       "      <td>223.97</td>\n",
       "      <td>224.59</td>\n",
       "      <td>221.0</td>\n",
       "    </tr>\n",
       "    <tr>\n",
       "      <th>3</th>\n",
       "      <td>1.735176e+09</td>\n",
       "      <td>224.59</td>\n",
       "      <td>224.65</td>\n",
       "      <td>224.19</td>\n",
       "      <td>224.19</td>\n",
       "      <td>39.0</td>\n",
       "    </tr>\n",
       "    <tr>\n",
       "      <th>4</th>\n",
       "      <td>1.735176e+09</td>\n",
       "      <td>224.57</td>\n",
       "      <td>224.59</td>\n",
       "      <td>223.28</td>\n",
       "      <td>224.59</td>\n",
       "      <td>19.0</td>\n",
       "    </tr>\n",
       "  </tbody>\n",
       "</table>\n",
       "</div>"
      ],
      "text/plain": [
       "              0       1       2       3       4      5\n",
       "0  1.735175e+09  224.60  224.60  223.90  224.41  355.0\n",
       "1  1.735175e+09  224.41  224.70  224.02  224.59   47.0\n",
       "2  1.735175e+09  224.59  224.59  223.97  224.59  221.0\n",
       "3  1.735176e+09  224.59  224.65  224.19  224.19   39.0\n",
       "4  1.735176e+09  224.57  224.59  223.28  224.59   19.0"
      ]
     },
     "execution_count": 95,
     "metadata": {},
     "output_type": "execute_result"
    }
   ],
   "source": [
    "train_x.head()"
   ]
  },
  {
   "cell_type": "code",
   "execution_count": 96,
   "metadata": {},
   "outputs": [
    {
     "name": "stdout",
     "output_type": "stream",
     "text": [
      "<class 'pandas.core.frame.DataFrame'>\n",
      "RangeIndex: 3261 entries, 0 to 3260\n",
      "Data columns (total 6 columns):\n",
      " #   Column  Non-Null Count  Dtype  \n",
      "---  ------  --------------  -----  \n",
      " 0   0       3261 non-null   float64\n",
      " 1   1       3261 non-null   float64\n",
      " 2   2       3261 non-null   float64\n",
      " 3   3       3261 non-null   float64\n",
      " 4   4       3261 non-null   float64\n",
      " 5   5       3261 non-null   float64\n",
      "dtypes: float64(6)\n",
      "memory usage: 153.0 KB\n"
     ]
    }
   ],
   "source": [
    "train_x.info()"
   ]
  },
  {
   "cell_type": "code",
   "execution_count": 97,
   "metadata": {},
   "outputs": [
    {
     "data": {
      "text/html": [
       "<div>\n",
       "<style scoped>\n",
       "    .dataframe tbody tr th:only-of-type {\n",
       "        vertical-align: middle;\n",
       "    }\n",
       "\n",
       "    .dataframe tbody tr th {\n",
       "        vertical-align: top;\n",
       "    }\n",
       "\n",
       "    .dataframe thead th {\n",
       "        text-align: right;\n",
       "    }\n",
       "</style>\n",
       "<table border=\"1\" class=\"dataframe\">\n",
       "  <thead>\n",
       "    <tr style=\"text-align: right;\">\n",
       "      <th></th>\n",
       "      <th>0</th>\n",
       "      <th>1</th>\n",
       "      <th>2</th>\n",
       "      <th>3</th>\n",
       "      <th>4</th>\n",
       "      <th>5</th>\n",
       "    </tr>\n",
       "  </thead>\n",
       "  <tbody>\n",
       "    <tr>\n",
       "      <th>count</th>\n",
       "      <td>3.261000e+03</td>\n",
       "      <td>3261.000000</td>\n",
       "      <td>3261.000000</td>\n",
       "      <td>3261.000000</td>\n",
       "      <td>3261.000000</td>\n",
       "      <td>3.261000e+03</td>\n",
       "    </tr>\n",
       "    <tr>\n",
       "      <th>mean</th>\n",
       "      <td>1.736484e+09</td>\n",
       "      <td>221.982142</td>\n",
       "      <td>222.163364</td>\n",
       "      <td>221.776433</td>\n",
       "      <td>221.973394</td>\n",
       "      <td>3.474808e+04</td>\n",
       "    </tr>\n",
       "    <tr>\n",
       "      <th>std</th>\n",
       "      <td>7.675576e+05</td>\n",
       "      <td>2.562566</td>\n",
       "      <td>2.561051</td>\n",
       "      <td>2.588305</td>\n",
       "      <td>2.571227</td>\n",
       "      <td>1.627297e+05</td>\n",
       "    </tr>\n",
       "    <tr>\n",
       "      <th>min</th>\n",
       "      <td>1.735175e+09</td>\n",
       "      <td>215.058500</td>\n",
       "      <td>215.345000</td>\n",
       "      <td>214.610000</td>\n",
       "      <td>215.000000</td>\n",
       "      <td>1.000000e+00</td>\n",
       "    </tr>\n",
       "    <tr>\n",
       "      <th>25%</th>\n",
       "      <td>1.735823e+09</td>\n",
       "      <td>220.000000</td>\n",
       "      <td>220.188600</td>\n",
       "      <td>219.820000</td>\n",
       "      <td>220.000000</td>\n",
       "      <td>2.300000e+01</td>\n",
       "    </tr>\n",
       "    <tr>\n",
       "      <th>50%</th>\n",
       "      <td>1.736489e+09</td>\n",
       "      <td>222.660000</td>\n",
       "      <td>222.810000</td>\n",
       "      <td>222.470000</td>\n",
       "      <td>222.660000</td>\n",
       "      <td>1.387000e+03</td>\n",
       "    </tr>\n",
       "    <tr>\n",
       "      <th>75%</th>\n",
       "      <td>1.737077e+09</td>\n",
       "      <td>224.030000</td>\n",
       "      <td>224.240000</td>\n",
       "      <td>223.880000</td>\n",
       "      <td>224.040000</td>\n",
       "      <td>1.996800e+04</td>\n",
       "    </tr>\n",
       "    <tr>\n",
       "      <th>max</th>\n",
       "      <td>1.737738e+09</td>\n",
       "      <td>227.200000</td>\n",
       "      <td>228.598800</td>\n",
       "      <td>226.720000</td>\n",
       "      <td>227.240000</td>\n",
       "      <td>3.216348e+06</td>\n",
       "    </tr>\n",
       "  </tbody>\n",
       "</table>\n",
       "</div>"
      ],
      "text/plain": [
       "                  0            1            2            3            4  \\\n",
       "count  3.261000e+03  3261.000000  3261.000000  3261.000000  3261.000000   \n",
       "mean   1.736484e+09   221.982142   222.163364   221.776433   221.973394   \n",
       "std    7.675576e+05     2.562566     2.561051     2.588305     2.571227   \n",
       "min    1.735175e+09   215.058500   215.345000   214.610000   215.000000   \n",
       "25%    1.735823e+09   220.000000   220.188600   219.820000   220.000000   \n",
       "50%    1.736489e+09   222.660000   222.810000   222.470000   222.660000   \n",
       "75%    1.737077e+09   224.030000   224.240000   223.880000   224.040000   \n",
       "max    1.737738e+09   227.200000   228.598800   226.720000   227.240000   \n",
       "\n",
       "                  5  \n",
       "count  3.261000e+03  \n",
       "mean   3.474808e+04  \n",
       "std    1.627297e+05  \n",
       "min    1.000000e+00  \n",
       "25%    2.300000e+01  \n",
       "50%    1.387000e+03  \n",
       "75%    1.996800e+04  \n",
       "max    3.216348e+06  "
      ]
     },
     "execution_count": 97,
     "metadata": {},
     "output_type": "execute_result"
    }
   ],
   "source": [
    "train_x.describe()"
   ]
  },
  {
   "cell_type": "code",
   "execution_count": 98,
   "metadata": {},
   "outputs": [
    {
     "data": {
      "text/html": [
       "<div>\n",
       "<style scoped>\n",
       "    .dataframe tbody tr th:only-of-type {\n",
       "        vertical-align: middle;\n",
       "    }\n",
       "\n",
       "    .dataframe tbody tr th {\n",
       "        vertical-align: top;\n",
       "    }\n",
       "\n",
       "    .dataframe thead th {\n",
       "        text-align: right;\n",
       "    }\n",
       "</style>\n",
       "<table border=\"1\" class=\"dataframe\">\n",
       "  <thead>\n",
       "    <tr style=\"text-align: right;\">\n",
       "      <th></th>\n",
       "      <th>0</th>\n",
       "      <th>1</th>\n",
       "      <th>2</th>\n",
       "      <th>3</th>\n",
       "      <th>4</th>\n",
       "      <th>5</th>\n",
       "    </tr>\n",
       "  </thead>\n",
       "  <tbody>\n",
       "    <tr>\n",
       "      <th>0</th>\n",
       "      <td>False</td>\n",
       "      <td>False</td>\n",
       "      <td>False</td>\n",
       "      <td>False</td>\n",
       "      <td>False</td>\n",
       "      <td>False</td>\n",
       "    </tr>\n",
       "    <tr>\n",
       "      <th>1</th>\n",
       "      <td>False</td>\n",
       "      <td>False</td>\n",
       "      <td>False</td>\n",
       "      <td>False</td>\n",
       "      <td>False</td>\n",
       "      <td>False</td>\n",
       "    </tr>\n",
       "    <tr>\n",
       "      <th>2</th>\n",
       "      <td>False</td>\n",
       "      <td>False</td>\n",
       "      <td>False</td>\n",
       "      <td>False</td>\n",
       "      <td>False</td>\n",
       "      <td>False</td>\n",
       "    </tr>\n",
       "    <tr>\n",
       "      <th>3</th>\n",
       "      <td>False</td>\n",
       "      <td>False</td>\n",
       "      <td>False</td>\n",
       "      <td>False</td>\n",
       "      <td>False</td>\n",
       "      <td>False</td>\n",
       "    </tr>\n",
       "    <tr>\n",
       "      <th>4</th>\n",
       "      <td>False</td>\n",
       "      <td>False</td>\n",
       "      <td>False</td>\n",
       "      <td>False</td>\n",
       "      <td>False</td>\n",
       "      <td>False</td>\n",
       "    </tr>\n",
       "    <tr>\n",
       "      <th>...</th>\n",
       "      <td>...</td>\n",
       "      <td>...</td>\n",
       "      <td>...</td>\n",
       "      <td>...</td>\n",
       "      <td>...</td>\n",
       "      <td>...</td>\n",
       "    </tr>\n",
       "    <tr>\n",
       "      <th>3256</th>\n",
       "      <td>False</td>\n",
       "      <td>False</td>\n",
       "      <td>False</td>\n",
       "      <td>False</td>\n",
       "      <td>False</td>\n",
       "      <td>False</td>\n",
       "    </tr>\n",
       "    <tr>\n",
       "      <th>3257</th>\n",
       "      <td>False</td>\n",
       "      <td>False</td>\n",
       "      <td>False</td>\n",
       "      <td>False</td>\n",
       "      <td>False</td>\n",
       "      <td>False</td>\n",
       "    </tr>\n",
       "    <tr>\n",
       "      <th>3258</th>\n",
       "      <td>False</td>\n",
       "      <td>False</td>\n",
       "      <td>False</td>\n",
       "      <td>False</td>\n",
       "      <td>False</td>\n",
       "      <td>False</td>\n",
       "    </tr>\n",
       "    <tr>\n",
       "      <th>3259</th>\n",
       "      <td>False</td>\n",
       "      <td>False</td>\n",
       "      <td>False</td>\n",
       "      <td>False</td>\n",
       "      <td>False</td>\n",
       "      <td>False</td>\n",
       "    </tr>\n",
       "    <tr>\n",
       "      <th>3260</th>\n",
       "      <td>False</td>\n",
       "      <td>False</td>\n",
       "      <td>False</td>\n",
       "      <td>False</td>\n",
       "      <td>False</td>\n",
       "      <td>False</td>\n",
       "    </tr>\n",
       "  </tbody>\n",
       "</table>\n",
       "<p>3261 rows × 6 columns</p>\n",
       "</div>"
      ],
      "text/plain": [
       "          0      1      2      3      4      5\n",
       "0     False  False  False  False  False  False\n",
       "1     False  False  False  False  False  False\n",
       "2     False  False  False  False  False  False\n",
       "3     False  False  False  False  False  False\n",
       "4     False  False  False  False  False  False\n",
       "...     ...    ...    ...    ...    ...    ...\n",
       "3256  False  False  False  False  False  False\n",
       "3257  False  False  False  False  False  False\n",
       "3258  False  False  False  False  False  False\n",
       "3259  False  False  False  False  False  False\n",
       "3260  False  False  False  False  False  False\n",
       "\n",
       "[3261 rows x 6 columns]"
      ]
     },
     "execution_count": 98,
     "metadata": {},
     "output_type": "execute_result"
    }
   ],
   "source": [
    "train_x.isna()"
   ]
  },
  {
   "cell_type": "code",
   "execution_count": 99,
   "metadata": {},
   "outputs": [],
   "source": [
    "train_x.ffill(inplace=True)  "
   ]
  },
  {
   "cell_type": "code",
   "execution_count": 100,
   "metadata": {},
   "outputs": [
    {
     "data": {
      "text/html": [
       "<div>\n",
       "<style scoped>\n",
       "    .dataframe tbody tr th:only-of-type {\n",
       "        vertical-align: middle;\n",
       "    }\n",
       "\n",
       "    .dataframe tbody tr th {\n",
       "        vertical-align: top;\n",
       "    }\n",
       "\n",
       "    .dataframe thead th {\n",
       "        text-align: right;\n",
       "    }\n",
       "</style>\n",
       "<table border=\"1\" class=\"dataframe\">\n",
       "  <thead>\n",
       "    <tr style=\"text-align: right;\">\n",
       "      <th></th>\n",
       "      <th>0</th>\n",
       "      <th>1</th>\n",
       "      <th>2</th>\n",
       "      <th>3</th>\n",
       "      <th>4</th>\n",
       "      <th>5</th>\n",
       "    </tr>\n",
       "  </thead>\n",
       "  <tbody>\n",
       "    <tr>\n",
       "      <th>count</th>\n",
       "      <td>3.261000e+03</td>\n",
       "      <td>3261.000000</td>\n",
       "      <td>3261.000000</td>\n",
       "      <td>3261.000000</td>\n",
       "      <td>3261.000000</td>\n",
       "      <td>3.261000e+03</td>\n",
       "    </tr>\n",
       "    <tr>\n",
       "      <th>mean</th>\n",
       "      <td>1.736484e+09</td>\n",
       "      <td>221.982142</td>\n",
       "      <td>222.163364</td>\n",
       "      <td>221.776433</td>\n",
       "      <td>221.973394</td>\n",
       "      <td>3.474808e+04</td>\n",
       "    </tr>\n",
       "    <tr>\n",
       "      <th>std</th>\n",
       "      <td>7.675576e+05</td>\n",
       "      <td>2.562566</td>\n",
       "      <td>2.561051</td>\n",
       "      <td>2.588305</td>\n",
       "      <td>2.571227</td>\n",
       "      <td>1.627297e+05</td>\n",
       "    </tr>\n",
       "    <tr>\n",
       "      <th>min</th>\n",
       "      <td>1.735175e+09</td>\n",
       "      <td>215.058500</td>\n",
       "      <td>215.345000</td>\n",
       "      <td>214.610000</td>\n",
       "      <td>215.000000</td>\n",
       "      <td>1.000000e+00</td>\n",
       "    </tr>\n",
       "    <tr>\n",
       "      <th>25%</th>\n",
       "      <td>1.735823e+09</td>\n",
       "      <td>220.000000</td>\n",
       "      <td>220.188600</td>\n",
       "      <td>219.820000</td>\n",
       "      <td>220.000000</td>\n",
       "      <td>2.300000e+01</td>\n",
       "    </tr>\n",
       "    <tr>\n",
       "      <th>50%</th>\n",
       "      <td>1.736489e+09</td>\n",
       "      <td>222.660000</td>\n",
       "      <td>222.810000</td>\n",
       "      <td>222.470000</td>\n",
       "      <td>222.660000</td>\n",
       "      <td>1.387000e+03</td>\n",
       "    </tr>\n",
       "    <tr>\n",
       "      <th>75%</th>\n",
       "      <td>1.737077e+09</td>\n",
       "      <td>224.030000</td>\n",
       "      <td>224.240000</td>\n",
       "      <td>223.880000</td>\n",
       "      <td>224.040000</td>\n",
       "      <td>1.996800e+04</td>\n",
       "    </tr>\n",
       "    <tr>\n",
       "      <th>max</th>\n",
       "      <td>1.737738e+09</td>\n",
       "      <td>227.200000</td>\n",
       "      <td>228.598800</td>\n",
       "      <td>226.720000</td>\n",
       "      <td>227.240000</td>\n",
       "      <td>3.216348e+06</td>\n",
       "    </tr>\n",
       "  </tbody>\n",
       "</table>\n",
       "</div>"
      ],
      "text/plain": [
       "                  0            1            2            3            4  \\\n",
       "count  3.261000e+03  3261.000000  3261.000000  3261.000000  3261.000000   \n",
       "mean   1.736484e+09   221.982142   222.163364   221.776433   221.973394   \n",
       "std    7.675576e+05     2.562566     2.561051     2.588305     2.571227   \n",
       "min    1.735175e+09   215.058500   215.345000   214.610000   215.000000   \n",
       "25%    1.735823e+09   220.000000   220.188600   219.820000   220.000000   \n",
       "50%    1.736489e+09   222.660000   222.810000   222.470000   222.660000   \n",
       "75%    1.737077e+09   224.030000   224.240000   223.880000   224.040000   \n",
       "max    1.737738e+09   227.200000   228.598800   226.720000   227.240000   \n",
       "\n",
       "                  5  \n",
       "count  3.261000e+03  \n",
       "mean   3.474808e+04  \n",
       "std    1.627297e+05  \n",
       "min    1.000000e+00  \n",
       "25%    2.300000e+01  \n",
       "50%    1.387000e+03  \n",
       "75%    1.996800e+04  \n",
       "max    3.216348e+06  "
      ]
     },
     "execution_count": 100,
     "metadata": {},
     "output_type": "execute_result"
    }
   ],
   "source": [
    "train_x.describe()"
   ]
  },
  {
   "cell_type": "code",
   "execution_count": 101,
   "metadata": {},
   "outputs": [
    {
     "data": {
      "text/plain": [
       "0       False\n",
       "1       False\n",
       "2       False\n",
       "3       False\n",
       "4       False\n",
       "        ...  \n",
       "3256    False\n",
       "3257    False\n",
       "3258    False\n",
       "3259    False\n",
       "3260    False\n",
       "Length: 3261, dtype: bool"
      ]
     },
     "execution_count": 101,
     "metadata": {},
     "output_type": "execute_result"
    }
   ],
   "source": [
    "train_x.duplicated()"
   ]
  },
  {
   "cell_type": "code",
   "execution_count": 102,
   "metadata": {},
   "outputs": [
    {
     "data": {
      "text/html": [
       "<div>\n",
       "<style scoped>\n",
       "    .dataframe tbody tr th:only-of-type {\n",
       "        vertical-align: middle;\n",
       "    }\n",
       "\n",
       "    .dataframe tbody tr th {\n",
       "        vertical-align: top;\n",
       "    }\n",
       "\n",
       "    .dataframe thead th {\n",
       "        text-align: right;\n",
       "    }\n",
       "</style>\n",
       "<table border=\"1\" class=\"dataframe\">\n",
       "  <thead>\n",
       "    <tr style=\"text-align: right;\">\n",
       "      <th></th>\n",
       "      <th>0</th>\n",
       "      <th>1</th>\n",
       "      <th>2</th>\n",
       "      <th>3</th>\n",
       "      <th>4</th>\n",
       "      <th>5</th>\n",
       "    </tr>\n",
       "  </thead>\n",
       "  <tbody>\n",
       "    <tr>\n",
       "      <th>0</th>\n",
       "      <td>1.735175e+09</td>\n",
       "      <td>224.60</td>\n",
       "      <td>224.60</td>\n",
       "      <td>223.90</td>\n",
       "      <td>224.4100</td>\n",
       "      <td>355.0</td>\n",
       "    </tr>\n",
       "    <tr>\n",
       "      <th>1</th>\n",
       "      <td>1.735175e+09</td>\n",
       "      <td>224.41</td>\n",
       "      <td>224.70</td>\n",
       "      <td>224.02</td>\n",
       "      <td>224.5900</td>\n",
       "      <td>47.0</td>\n",
       "    </tr>\n",
       "    <tr>\n",
       "      <th>2</th>\n",
       "      <td>1.735175e+09</td>\n",
       "      <td>224.59</td>\n",
       "      <td>224.59</td>\n",
       "      <td>223.97</td>\n",
       "      <td>224.5900</td>\n",
       "      <td>221.0</td>\n",
       "    </tr>\n",
       "    <tr>\n",
       "      <th>3</th>\n",
       "      <td>1.735176e+09</td>\n",
       "      <td>224.59</td>\n",
       "      <td>224.65</td>\n",
       "      <td>224.19</td>\n",
       "      <td>224.1900</td>\n",
       "      <td>39.0</td>\n",
       "    </tr>\n",
       "    <tr>\n",
       "      <th>4</th>\n",
       "      <td>1.735176e+09</td>\n",
       "      <td>224.57</td>\n",
       "      <td>224.59</td>\n",
       "      <td>223.28</td>\n",
       "      <td>224.5900</td>\n",
       "      <td>19.0</td>\n",
       "    </tr>\n",
       "    <tr>\n",
       "      <th>...</th>\n",
       "      <td>...</td>\n",
       "      <td>...</td>\n",
       "      <td>...</td>\n",
       "      <td>...</td>\n",
       "      <td>...</td>\n",
       "      <td>...</td>\n",
       "    </tr>\n",
       "    <tr>\n",
       "      <th>95</th>\n",
       "      <td>1.735206e+09</td>\n",
       "      <td>224.96</td>\n",
       "      <td>225.21</td>\n",
       "      <td>224.96</td>\n",
       "      <td>225.1148</td>\n",
       "      <td>11510.0</td>\n",
       "    </tr>\n",
       "    <tr>\n",
       "      <th>96</th>\n",
       "      <td>1.735206e+09</td>\n",
       "      <td>225.16</td>\n",
       "      <td>225.23</td>\n",
       "      <td>224.79</td>\n",
       "      <td>225.1500</td>\n",
       "      <td>34832.0</td>\n",
       "    </tr>\n",
       "    <tr>\n",
       "      <th>97</th>\n",
       "      <td>1.735207e+09</td>\n",
       "      <td>225.14</td>\n",
       "      <td>225.14</td>\n",
       "      <td>224.75</td>\n",
       "      <td>224.8800</td>\n",
       "      <td>12330.0</td>\n",
       "    </tr>\n",
       "    <tr>\n",
       "      <th>98</th>\n",
       "      <td>1.735207e+09</td>\n",
       "      <td>224.89</td>\n",
       "      <td>224.89</td>\n",
       "      <td>224.58</td>\n",
       "      <td>224.7650</td>\n",
       "      <td>10043.0</td>\n",
       "    </tr>\n",
       "    <tr>\n",
       "      <th>99</th>\n",
       "      <td>1.735207e+09</td>\n",
       "      <td>224.76</td>\n",
       "      <td>224.83</td>\n",
       "      <td>224.63</td>\n",
       "      <td>224.7700</td>\n",
       "      <td>11731.0</td>\n",
       "    </tr>\n",
       "  </tbody>\n",
       "</table>\n",
       "<p>100 rows × 6 columns</p>\n",
       "</div>"
      ],
      "text/plain": [
       "               0       1       2       3         4        5\n",
       "0   1.735175e+09  224.60  224.60  223.90  224.4100    355.0\n",
       "1   1.735175e+09  224.41  224.70  224.02  224.5900     47.0\n",
       "2   1.735175e+09  224.59  224.59  223.97  224.5900    221.0\n",
       "3   1.735176e+09  224.59  224.65  224.19  224.1900     39.0\n",
       "4   1.735176e+09  224.57  224.59  223.28  224.5900     19.0\n",
       "..           ...     ...     ...     ...       ...      ...\n",
       "95  1.735206e+09  224.96  225.21  224.96  225.1148  11510.0\n",
       "96  1.735206e+09  225.16  225.23  224.79  225.1500  34832.0\n",
       "97  1.735207e+09  225.14  225.14  224.75  224.8800  12330.0\n",
       "98  1.735207e+09  224.89  224.89  224.58  224.7650  10043.0\n",
       "99  1.735207e+09  224.76  224.83  224.63  224.7700  11731.0\n",
       "\n",
       "[100 rows x 6 columns]"
      ]
     },
     "execution_count": 102,
     "metadata": {},
     "output_type": "execute_result"
    }
   ],
   "source": [
    "train_x.head(100)"
   ]
  },
  {
   "cell_type": "code",
   "execution_count": 103,
   "metadata": {},
   "outputs": [],
   "source": [
    "train_x.columns =['timestampp','open_price','high_price','low_price','close_price','volume'] "
   ]
  },
  {
   "cell_type": "code",
   "execution_count": 104,
   "metadata": {},
   "outputs": [
    {
     "data": {
      "text/plain": [
       "Index(['timestampp', 'open_price', 'high_price', 'low_price', 'close_price',\n",
       "       'volume'],\n",
       "      dtype='object')"
      ]
     },
     "execution_count": 104,
     "metadata": {},
     "output_type": "execute_result"
    }
   ],
   "source": [
    "train_x.columns"
   ]
  },
  {
   "cell_type": "code",
   "execution_count": 105,
   "metadata": {},
   "outputs": [],
   "source": [
    "train_x.sort_values(by='timestampp',inplace=True)"
   ]
  },
  {
   "cell_type": "code",
   "execution_count": 106,
   "metadata": {},
   "outputs": [
    {
     "data": {
      "text/html": [
       "<div>\n",
       "<style scoped>\n",
       "    .dataframe tbody tr th:only-of-type {\n",
       "        vertical-align: middle;\n",
       "    }\n",
       "\n",
       "    .dataframe tbody tr th {\n",
       "        vertical-align: top;\n",
       "    }\n",
       "\n",
       "    .dataframe thead th {\n",
       "        text-align: right;\n",
       "    }\n",
       "</style>\n",
       "<table border=\"1\" class=\"dataframe\">\n",
       "  <thead>\n",
       "    <tr style=\"text-align: right;\">\n",
       "      <th></th>\n",
       "      <th>timestampp</th>\n",
       "      <th>open_price</th>\n",
       "      <th>high_price</th>\n",
       "      <th>low_price</th>\n",
       "      <th>close_price</th>\n",
       "      <th>volume</th>\n",
       "    </tr>\n",
       "  </thead>\n",
       "  <tbody>\n",
       "    <tr>\n",
       "      <th>0</th>\n",
       "      <td>1.735175e+09</td>\n",
       "      <td>224.60</td>\n",
       "      <td>224.60</td>\n",
       "      <td>223.90</td>\n",
       "      <td>224.4100</td>\n",
       "      <td>355.0</td>\n",
       "    </tr>\n",
       "    <tr>\n",
       "      <th>1</th>\n",
       "      <td>1.735175e+09</td>\n",
       "      <td>224.41</td>\n",
       "      <td>224.70</td>\n",
       "      <td>224.02</td>\n",
       "      <td>224.5900</td>\n",
       "      <td>47.0</td>\n",
       "    </tr>\n",
       "    <tr>\n",
       "      <th>2</th>\n",
       "      <td>1.735175e+09</td>\n",
       "      <td>224.59</td>\n",
       "      <td>224.59</td>\n",
       "      <td>223.97</td>\n",
       "      <td>224.5900</td>\n",
       "      <td>221.0</td>\n",
       "    </tr>\n",
       "    <tr>\n",
       "      <th>3</th>\n",
       "      <td>1.735176e+09</td>\n",
       "      <td>224.59</td>\n",
       "      <td>224.65</td>\n",
       "      <td>224.19</td>\n",
       "      <td>224.1900</td>\n",
       "      <td>39.0</td>\n",
       "    </tr>\n",
       "    <tr>\n",
       "      <th>4</th>\n",
       "      <td>1.735176e+09</td>\n",
       "      <td>224.57</td>\n",
       "      <td>224.59</td>\n",
       "      <td>223.28</td>\n",
       "      <td>224.5900</td>\n",
       "      <td>19.0</td>\n",
       "    </tr>\n",
       "    <tr>\n",
       "      <th>...</th>\n",
       "      <td>...</td>\n",
       "      <td>...</td>\n",
       "      <td>...</td>\n",
       "      <td>...</td>\n",
       "      <td>...</td>\n",
       "      <td>...</td>\n",
       "    </tr>\n",
       "    <tr>\n",
       "      <th>95</th>\n",
       "      <td>1.735206e+09</td>\n",
       "      <td>224.96</td>\n",
       "      <td>225.21</td>\n",
       "      <td>224.96</td>\n",
       "      <td>225.1148</td>\n",
       "      <td>11510.0</td>\n",
       "    </tr>\n",
       "    <tr>\n",
       "      <th>96</th>\n",
       "      <td>1.735206e+09</td>\n",
       "      <td>225.16</td>\n",
       "      <td>225.23</td>\n",
       "      <td>224.79</td>\n",
       "      <td>225.1500</td>\n",
       "      <td>34832.0</td>\n",
       "    </tr>\n",
       "    <tr>\n",
       "      <th>97</th>\n",
       "      <td>1.735207e+09</td>\n",
       "      <td>225.14</td>\n",
       "      <td>225.14</td>\n",
       "      <td>224.75</td>\n",
       "      <td>224.8800</td>\n",
       "      <td>12330.0</td>\n",
       "    </tr>\n",
       "    <tr>\n",
       "      <th>98</th>\n",
       "      <td>1.735207e+09</td>\n",
       "      <td>224.89</td>\n",
       "      <td>224.89</td>\n",
       "      <td>224.58</td>\n",
       "      <td>224.7650</td>\n",
       "      <td>10043.0</td>\n",
       "    </tr>\n",
       "    <tr>\n",
       "      <th>99</th>\n",
       "      <td>1.735207e+09</td>\n",
       "      <td>224.76</td>\n",
       "      <td>224.83</td>\n",
       "      <td>224.63</td>\n",
       "      <td>224.7700</td>\n",
       "      <td>11731.0</td>\n",
       "    </tr>\n",
       "  </tbody>\n",
       "</table>\n",
       "<p>100 rows × 6 columns</p>\n",
       "</div>"
      ],
      "text/plain": [
       "      timestampp  open_price  high_price  low_price  close_price   volume\n",
       "0   1.735175e+09      224.60      224.60     223.90     224.4100    355.0\n",
       "1   1.735175e+09      224.41      224.70     224.02     224.5900     47.0\n",
       "2   1.735175e+09      224.59      224.59     223.97     224.5900    221.0\n",
       "3   1.735176e+09      224.59      224.65     224.19     224.1900     39.0\n",
       "4   1.735176e+09      224.57      224.59     223.28     224.5900     19.0\n",
       "..           ...         ...         ...        ...          ...      ...\n",
       "95  1.735206e+09      224.96      225.21     224.96     225.1148  11510.0\n",
       "96  1.735206e+09      225.16      225.23     224.79     225.1500  34832.0\n",
       "97  1.735207e+09      225.14      225.14     224.75     224.8800  12330.0\n",
       "98  1.735207e+09      224.89      224.89     224.58     224.7650  10043.0\n",
       "99  1.735207e+09      224.76      224.83     224.63     224.7700  11731.0\n",
       "\n",
       "[100 rows x 6 columns]"
      ]
     },
     "execution_count": 106,
     "metadata": {},
     "output_type": "execute_result"
    }
   ],
   "source": [
    "train_x.head(100)"
   ]
  },
  {
   "cell_type": "code",
   "execution_count": 107,
   "metadata": {},
   "outputs": [],
   "source": [
    "train_x[\"avg_volume_in_one_day\"] = train_x.groupby(\"timestampp\")['volume'].transform('mean')"
   ]
  },
  {
   "cell_type": "code",
   "execution_count": 108,
   "metadata": {},
   "outputs": [],
   "source": [
    "train_x[\"sum_volume_in_one_day\"] = train_x.groupby(\"timestampp\")['volume'].transform('sum')"
   ]
  },
  {
   "cell_type": "code",
   "execution_count": 109,
   "metadata": {},
   "outputs": [
    {
     "data": {
      "text/plain": [
       "Index(['timestampp', 'open_price', 'high_price', 'low_price', 'close_price',\n",
       "       'volume', 'avg_volume_in_one_day', 'sum_volume_in_one_day'],\n",
       "      dtype='object')"
      ]
     },
     "execution_count": 109,
     "metadata": {},
     "output_type": "execute_result"
    }
   ],
   "source": [
    "train_x.columns"
   ]
  },
  {
   "cell_type": "code",
   "execution_count": 110,
   "metadata": {},
   "outputs": [],
   "source": [
    "train_x[\"avg_salary_one_day\"] = (((train_x.groupby('timestampp')['high_price'].transform('max'))+(train_x.groupby('timestampp')['low_price'].transform('min')))/2)*train_x.sum_volume_in_one_day"
   ]
  },
  {
   "cell_type": "code",
   "execution_count": 111,
   "metadata": {},
   "outputs": [
    {
     "data": {
      "text/plain": [
       "Index(['timestampp', 'open_price', 'high_price', 'low_price', 'close_price',\n",
       "       'volume', 'avg_volume_in_one_day', 'sum_volume_in_one_day',\n",
       "       'avg_salary_one_day'],\n",
       "      dtype='object')"
      ]
     },
     "execution_count": 111,
     "metadata": {},
     "output_type": "execute_result"
    }
   ],
   "source": [
    "train_x.columns"
   ]
  },
  {
   "cell_type": "code",
   "execution_count": 112,
   "metadata": {},
   "outputs": [
    {
     "data": {
      "image/png": "[encoded data removed]",
      "text/plain": [
       "<Figure size 1000x600 with 1 Axes>"
      ]
     },
     "metadata": {},
     "output_type": "display_data"
    }
   ],
   "source": [
    "plt.figure(figsize=(10, 6))\n",
    "sns.lineplot(x='timestampp', y='open_price', data=train_x, label='Açılış Fiyatı')\n",
    "sns.lineplot(x='timestampp', y='high_price', data=train_x, label='Yüksek Fiyat')\n",
    "sns.lineplot(x='timestampp', y='low_price', data=train_x, label='Düşük Fiyat')\n",
    "sns.lineplot(x='timestampp', y='close_price', data=train_x, label='Kapanış Fiyatı')\n",
    "plt.title('Zaman Serisi Grafiği: Fiyatlar')\n",
    "plt.xlabel('Tarih')\n",
    "plt.ylabel('Fiyat')\n",
    "plt.legend()\n",
    "plt.grid(True)\n",
    "plt.show()"
   ]
  },
  {
   "cell_type": "code",
   "execution_count": 113,
   "metadata": {},
   "outputs": [
    {
     "data": {
      "image/png": "[encoded data removed]",
      "text/plain": [
       "<Figure size 800x600 with 1 Axes>"
      ]
     },
     "metadata": {},
     "output_type": "display_data"
    }
   ],
   "source": [
    "plt.figure(figsize=(8, 6))\n",
    "sns.scatterplot(x='volume', y='avg_salary_one_day', data=train_x, color='blue')\n",
    "plt.title('Dağılım Grafiği: Volume vs Avg Salary')\n",
    "plt.xlabel('Volume')\n",
    "plt.ylabel('Ortalama satış')\n",
    "plt.grid(True)\n",
    "plt.show()"
   ]
  },
  {
   "cell_type": "code",
   "execution_count": 114,
   "metadata": {},
   "outputs": [
    {
     "data": {
      "image/png": "[encoded data removed]",
      "text/plain": [
       "<Figure size 800x600 with 1 Axes>"
      ]
     },
     "metadata": {},
     "output_type": "display_data"
    }
   ],
   "source": [
    "plt.figure(figsize=(8, 6))\n",
    "sns.boxplot(y='avg_volume_in_one_day', data=train_x, color='lightgreen')\n",
    "plt.title('Kutu Grafiği: Günlük Ortalama Hacim')\n",
    "plt.ylabel('Ortalama Hacim')\n",
    "plt.show()"
   ]
  },
  {
   "cell_type": "code",
   "execution_count": 115,
   "metadata": {},
   "outputs": [],
   "source": [
    "train_x.drop(train_x[train_x[\"avg_volume_in_one_day\"] > 2.0 * 1e6].index, inplace=True)"
   ]
  },
  {
   "cell_type": "code",
   "execution_count": 117,
   "metadata": {},
   "outputs": [
    {
     "data": {
      "image/png": "[encoded data removed]",
      "text/plain": [
       "<Figure size 800x600 with 1 Axes>"
      ]
     },
     "metadata": {},
     "output_type": "display_data"
    }
   ],
   "source": [
    "plt.figure(figsize=(8, 6))\n",
    "sns.boxplot(y='avg_volume_in_one_day', data=train_x, color='lightgreen')\n",
    "plt.title('Kutu Grafiği: Günlük Ortalama Hacim')\n",
    "plt.ylabel('Ortalama Hacim')\n",
    "plt.show()"
   ]
  },
  {
   "cell_type": "code",
   "execution_count": 121,
   "metadata": {},
   "outputs": [],
   "source": [
    "train_x.drop(train_x[train_x[\"avg_volume_in_one_day\"] > 1.5 * 1e6].index, inplace=True)"
   ]
  },
  {
   "cell_type": "code",
   "execution_count": 122,
   "metadata": {},
   "outputs": [
    {
     "data": {
      "image/png": "[encoded data removed]",
      "text/plain": [
       "<Figure size 800x600 with 1 Axes>"
      ]
     },
     "metadata": {},
     "output_type": "display_data"
    }
   ],
   "source": [
    "plt.figure(figsize=(8, 6))\n",
    "sns.boxplot(y='avg_volume_in_one_day', data=train_x, color='lightgreen')\n",
    "plt.title('Kutu Grafiği: Günlük Ortalama Hacim')\n",
    "plt.ylabel('Ortalama Hacim')\n",
    "plt.show()"
   ]
  },
  {
   "cell_type": "code",
   "execution_count": 123,
   "metadata": {},
   "outputs": [
    {
     "data": {
      "text/plain": [
       "timestampp               3250\n",
       "open_price               3250\n",
       "high_price               3250\n",
       "low_price                3250\n",
       "close_price              3250\n",
       "volume                   3250\n",
       "avg_volume_in_one_day    3250\n",
       "sum_volume_in_one_day    3250\n",
       "avg_salary_one_day       3250\n",
       "dtype: int64"
      ]
     },
     "execution_count": 123,
     "metadata": {},
     "output_type": "execute_result"
    }
   ],
   "source": [
    "train_x.count()"
   ]
  },
  {
   "cell_type": "code",
   "execution_count": null,
   "metadata": {},
   "outputs": [],
   "source": [
    "    "
   ]
  }
 ],
 "metadata": {
  "kernelspec": {
   "display_name": ".venv",
   "language": "python",
   "name": "python3"
  },
  "language_info": {
   "codemirror_mode": {
    "name": "ipython",
    "version": 3
   },
   "file_extension": ".py",
   "mimetype": "text/x-python",
   "name": "python",
   "nbconvert_exporter": "python",
   "pygments_lexer": "ipython3",
   "version": "3.10.16"
  }
 },
 "nbformat": 4,
 "nbformat_minor": 2
}
