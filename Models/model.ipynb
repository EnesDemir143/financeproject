{
 "cells": [
  {
   "cell_type": "code",
   "execution_count": 17,
   "metadata": {},
   "outputs": [],
   "source": [
    "import tensorflow as tf\n",
    "import numpy as np\n",
    "from tensorflow.keras import losses\n",
    "from tensorflow.keras.layers import Dense\n",
    "from tensorflow.keras.activations import relu,softmax,sigmoid\n",
    "from tensorflow.keras.optimizers import Adam\n",
    "import os\n",
    "import mysql.connector\n",
    "import pandas as pd"
   ]
  },
  {
   "cell_type": "markdown",
   "metadata": {},
   "source": [
    "DataBaseden veri çekmek.\n",
    "Environment yüklemek."
   ]
  },
  {
   "cell_type": "code",
   "execution_count": null,
   "metadata": {},
   "outputs": [],
   "source": [
    "from dotenv import load_dotenv  # python-dotenv kütüphanesini import edin\n",
    "\n",
    "load_dotenv(\"/Users/enesdemir/Desktop/financeProject/.venv/.env\")"
   ]
  },
  {
   "cell_type": "code",
   "execution_count": 3,
   "metadata": {},
   "outputs": [],
   "source": [
    "password = os.getenv(\"MYSQL_PASSWORD\")\n",
    "\n",
    "db = mysql.connector.connect(\n",
    "    host=\"localhost\",\n",
    "    user=\"root\",  \n",
    "    password=f\"{password}\",\n",
    "    database=\"finance\"  \n",
    ")\n",
    "\n",
    "cursor = db.cursor()"
   ]
  },
  {
   "cell_type": "code",
   "execution_count": 4,
   "metadata": {},
   "outputs": [],
   "source": [
    "query = \"\"\"\n",
    "    SELECT timestampp,open_price,open_price,high_price,low_price,close_price,volume FROM stock_data;\n",
    "\"\"\"\n",
    "\n",
    "cursor.execute(query)\n",
    "answer = cursor.fetchall()"
   ]
  },
  {
   "cell_type": "markdown",
   "metadata": {},
   "source": [
    "Veriyi numpy dizisine çevirme."
   ]
  },
  {
   "cell_type": "code",
   "execution_count": 37,
   "metadata": {},
   "outputs": [],
   "source": [
    "train_x =[]\n",
    "train_y =[]\n",
    "\n",
    "for row in answer:\n",
    "    row_data = np.array([\n",
    "        row[0].timestamp(),\n",
    "        float(row[1]),\n",
    "        float(row[2]),\n",
    "        float(row[3]),\n",
    "        float(row[4]),\n",
    "        float(row[5]),\n",
    "        int(row[6])\n",
    "    ])\n",
    "    row_data2 = np.array([\n",
    "\n",
    "    ])\n",
    "    train_x.append(row_data)\n",
    "\n",
    "train_x = pd.DataFrame(train_x)\n"
   ]
  },
  {
   "cell_type": "code",
   "execution_count": 39,
   "metadata": {},
   "outputs": [
    {
     "name": "stdout",
     "output_type": "stream",
     "text": [
      "                 0         1         2         3         4         5       6\n",
      "0     1.737651e+09  225.8800  225.8800  226.0000  225.8800  226.0000    94.0\n",
      "1     1.737651e+09  225.8898  225.8898  225.8898  225.8800  225.8800   203.0\n",
      "2     1.737650e+09  225.8822  225.8822  226.0000  225.8733  225.9000    45.0\n",
      "3     1.737650e+09  226.0000  226.0000  226.0000  225.9997  225.9997    10.0\n",
      "4     1.737650e+09  226.0000  226.0000  226.0400  226.0000  226.0400  1355.0\n",
      "...            ...       ...       ...       ...       ...       ...     ...\n",
      "3156  1.735176e+09  224.5700  224.5700  224.5900  223.2800  224.5900    19.0\n",
      "3157  1.735176e+09  224.5900  224.5900  224.6500  224.1900  224.1900    39.0\n",
      "3158  1.735175e+09  224.5900  224.5900  224.5900  223.9700  224.5900   221.0\n",
      "3159  1.735175e+09  224.4100  224.4100  224.7000  224.0200  224.5900    47.0\n",
      "3160  1.735175e+09  224.6000  224.6000  224.6000  223.9000  224.4100   355.0\n",
      "\n",
      "[3161 rows x 7 columns]\n"
     ]
    }
   ],
   "source": [
    "print(train_x)"
   ]
  },
  {
   "cell_type": "code",
   "execution_count": 44,
   "metadata": {},
   "outputs": [],
   "source": [
    "train_x.ffill(inplace=True)  "
   ]
  },
  {
   "cell_type": "code",
   "execution_count": null,
   "metadata": {},
   "outputs": [],
   "source": []
  }
 ],
 "metadata": {
  "kernelspec": {
   "display_name": ".venv",
   "language": "python",
   "name": "python3"
  },
  "language_info": {
   "codemirror_mode": {
    "name": "ipython",
    "version": 3
   },
   "file_extension": ".py",
   "mimetype": "text/x-python",
   "name": "python",
   "nbconvert_exporter": "python",
   "pygments_lexer": "ipython3",
   "version": "3.10.16"
  }
 },
 "nbformat": 4,
 "nbformat_minor": 2
}
